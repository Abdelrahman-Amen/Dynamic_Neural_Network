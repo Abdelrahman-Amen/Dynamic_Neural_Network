{
  "nbformat": 4,
  "nbformat_minor": 0,
  "metadata": {
    "colab": {
      "provenance": []
    },
    "kernelspec": {
      "name": "python3",
      "display_name": "Python 3"
    },
    "language_info": {
      "name": "python"
    }
  },
  "cells": [
    {
      "cell_type": "markdown",
      "source": [
        "Import Libraries"
      ],
      "metadata": {
        "id": "i0sHyxB8vc9x"
      }
    },
    {
      "cell_type": "code",
      "execution_count": null,
      "metadata": {
        "id": "ZS3PlS9H5Y82"
      },
      "outputs": [],
      "source": [
        "import numpy as np\n",
        "import pandas as pd\n",
        "import matplotlib.pyplot as plt\n",
        "import warnings\n",
        "warnings.filterwarnings('ignore')"
      ]
    },
    {
      "cell_type": "markdown",
      "source": [
        "Load Data"
      ],
      "metadata": {
        "id": "RVrQ38dzvejh"
      }
    },
    {
      "cell_type": "code",
      "source": [
        "import tensorflow as tf"
      ],
      "metadata": {
        "id": "ry9QRAvZ5ZZE"
      },
      "execution_count": null,
      "outputs": []
    },
    {
      "cell_type": "code",
      "source": [
        "#loading the data\n",
        "(x_train, y_train), (x_test, y_test) = tf.keras.datasets.mnist.load_data()"
      ],
      "metadata": {
        "id": "G-RXSAcu5Zbd"
      },
      "execution_count": null,
      "outputs": []
    },
    {
      "cell_type": "code",
      "source": [
        "np.unique(y_train), np.unique(y_test)"
      ],
      "metadata": {
        "id": "NR2GHlz75ZeH",
        "colab": {
          "base_uri": "https://localhost:8080/"
        },
        "outputId": "0b154bcd-2a98-429e-e1db-0d1a26341889"
      },
      "execution_count": null,
      "outputs": [
        {
          "output_type": "execute_result",
          "data": {
            "text/plain": [
              "(array([0, 1, 2, 3, 4, 5, 6, 7, 8, 9], dtype=uint8),\n",
              " array([0, 1, 2, 3, 4, 5, 6, 7, 8, 9], dtype=uint8))"
            ]
          },
          "metadata": {},
          "execution_count": 4
        }
      ]
    },
    {
      "cell_type": "code",
      "source": [
        "x_train=x_train.reshape(len(x_train),-1)"
      ],
      "metadata": {
        "id": "FvUBBYNu5Zhe"
      },
      "execution_count": null,
      "outputs": []
    },
    {
      "cell_type": "code",
      "source": [
        "x_test=x_test.reshape(len(x_test),-1)"
      ],
      "metadata": {
        "id": "yt0BmYcP5Zjo"
      },
      "execution_count": null,
      "outputs": []
    },
    {
      "cell_type": "markdown",
      "source": [
        "Standardize Data"
      ],
      "metadata": {
        "id": "5GlOXPN0vkqX"
      }
    },
    {
      "cell_type": "code",
      "source": [
        "x_train=(x_train-np.mean(x_train,axis=0))/(np.std(x_train,axis=0)+10e-16)\n",
        "x_test=(x_test-np.mean(x_test,axis=0))/(np.std(x_test,axis=0)+10e-16)"
      ],
      "metadata": {
        "id": "d-8gUqnD5Zlr"
      },
      "execution_count": null,
      "outputs": []
    },
    {
      "cell_type": "markdown",
      "source": [
        "Applying One_Hot_Encoder for Train Data"
      ],
      "metadata": {
        "id": "SkjRkyNBwr1X"
      }
    },
    {
      "cell_type": "code",
      "source": [
        "num_classes = len(np.unique(y_train))\n",
        "y_train_onehot = np.zeros((len(y_train), num_classes))\n",
        "y_train_onehot[np.arange(len(y_train)), y_train] = 1"
      ],
      "metadata": {
        "id": "YJcWK8lo5Zon"
      },
      "execution_count": null,
      "outputs": []
    },
    {
      "cell_type": "code",
      "source": [
        "y_train_onehot[:3]"
      ],
      "metadata": {
        "id": "ZLqWl66P5Zqv",
        "colab": {
          "base_uri": "https://localhost:8080/"
        },
        "outputId": "ac068608-f7eb-4448-c4ed-b36404f9fa3e"
      },
      "execution_count": null,
      "outputs": [
        {
          "output_type": "execute_result",
          "data": {
            "text/plain": [
              "array([[0., 0., 0., 0., 0., 1., 0., 0., 0., 0.],\n",
              "       [1., 0., 0., 0., 0., 0., 0., 0., 0., 0.],\n",
              "       [0., 0., 0., 0., 1., 0., 0., 0., 0., 0.]])"
            ]
          },
          "metadata": {},
          "execution_count": 9
        }
      ]
    },
    {
      "cell_type": "markdown",
      "source": [
        "Applying One_Hot_Encoder for test Data"
      ],
      "metadata": {
        "id": "z9GVGhXZw0fZ"
      }
    },
    {
      "cell_type": "code",
      "source": [
        "num_classes = len(np.unique(y_test))\n",
        "y_test_onehot = np.zeros((len(y_test), num_classes))\n",
        "y_test_onehot[np.arange(len(y_test)), y_test] = 1"
      ],
      "metadata": {
        "id": "5tdD5_03n_9s"
      },
      "execution_count": null,
      "outputs": []
    },
    {
      "cell_type": "code",
      "source": [
        "y_test_onehot[:3]"
      ],
      "metadata": {
        "id": "mXJEQtHcoBKS",
        "colab": {
          "base_uri": "https://localhost:8080/"
        },
        "outputId": "3945c38c-cf9f-49c5-af7f-c05f7b053017"
      },
      "execution_count": null,
      "outputs": [
        {
          "output_type": "execute_result",
          "data": {
            "text/plain": [
              "array([[0., 0., 0., 0., 0., 0., 0., 1., 0., 0.],\n",
              "       [0., 0., 1., 0., 0., 0., 0., 0., 0., 0.],\n",
              "       [0., 1., 0., 0., 0., 0., 0., 0., 0., 0.]])"
            ]
          },
          "metadata": {},
          "execution_count": 11
        }
      ]
    },
    {
      "cell_type": "markdown",
      "source": [
        "Sigmoid Function"
      ],
      "metadata": {
        "id": "sX2OdAqUvnzQ"
      }
    },
    {
      "cell_type": "code",
      "source": [
        "def sigmoid(z):\n",
        "    return 1.0 / (1.0 + np.exp(-z))"
      ],
      "metadata": {
        "id": "xcJdoBTK5Ztc"
      },
      "execution_count": null,
      "outputs": []
    },
    {
      "cell_type": "markdown",
      "source": [
        "sigmoid_derivative Function"
      ],
      "metadata": {
        "id": "jyVZoyUdvulH"
      }
    },
    {
      "cell_type": "code",
      "source": [
        "def sigmoid_derivative(x):\n",
        "    return x * (1 - x)"
      ],
      "metadata": {
        "id": "rQHwQZWx5Zvo"
      },
      "execution_count": null,
      "outputs": []
    },
    {
      "cell_type": "markdown",
      "source": [
        "softmax Function"
      ],
      "metadata": {
        "id": "YIQTVmbcvyx-"
      }
    },
    {
      "cell_type": "code",
      "source": [
        "def softmax(z):\n",
        "    exp_z = np.exp(z - np.max(z, axis=1, keepdims=True))\n",
        "    return exp_z / np.sum(exp_z, axis=1, keepdims=True)"
      ],
      "metadata": {
        "id": "cMmkGMTl5ZyR"
      },
      "execution_count": null,
      "outputs": []
    },
    {
      "cell_type": "markdown",
      "source": [
        "Cost Function"
      ],
      "metadata": {
        "id": "3DqBH0XJvqEI"
      }
    },
    {
      "cell_type": "code",
      "source": [
        "def cost_function(phiz, y_train):\n",
        "    return (y_train * np.log(phiz) - (1 - y_train) * np.log(1 - phiz)).mean()"
      ],
      "metadata": {
        "id": "mBOtN-655Z0h"
      },
      "execution_count": null,
      "outputs": []
    },
    {
      "cell_type": "markdown",
      "source": [
        "mse_loss"
      ],
      "metadata": {
        "id": "9jggtRG5vq1B"
      }
    },
    {
      "cell_type": "code",
      "source": [
        "def mse_loss(y_pred, y_true):\n",
        "    return np.mean(np.power(y_pred - y_true, 2))\n"
      ],
      "metadata": {
        "id": "1T0sKt5I5Z3D"
      },
      "execution_count": null,
      "outputs": []
    },
    {
      "cell_type": "markdown",
      "source": [
        "Building Dynamic Neural Network "
      ],
      "metadata": {
        "id": "y71FGBqKv1k3"
      }
    },
    {
      "cell_type": "code",
      "source": [
        "class NeuralNetwork:\n",
        "    def __init__(self,x,y, num_of_layers, size_of_layers):\n",
        "        self.x=x\n",
        "        self.y=y\n",
        "        self.num_of_layers = num_of_layers\n",
        "        self.size_of_layers = size_of_layers\n",
        "        self.t_weights=[]\n",
        "        self.t_bias=[]\n",
        "        self.t_activation=[]\n",
        "        for i in range(num_of_layers):\n",
        "          if(i==0):\n",
        "             self.weights=np.random.randn(size_of_layers[i],x.shape[1])\n",
        "             self.t_weights.append(self.weights) \n",
        "          else:\n",
        "             self.weights=np.random.randn(size_of_layers[i],size_of_layers[i-1])\n",
        "             self.t_weights.append(self.weights)\n",
        "\n",
        "          self.bias=np.random.randn(size_of_layers[i])\n",
        "          self.t_bias.append(self.bias)\n",
        " \n",
        "\n",
        "    \n",
        "    \n",
        "    def forward(self,x,y):\n",
        "      output_layer=self.x\n",
        "      nr_correct = 0  \n",
        "      for i in range (self.num_of_layers):\n",
        "          z=np.dot(output_layer,self.t_weights[i].T)+self.t_bias[i]\n",
        "          if i < self.num_of_layers - 1:\n",
        "              activation = sigmoid(z)\n",
        "               \n",
        "          else:\n",
        "              activation = softmax(z)\n",
        "              \n",
        "          output_layer=activation\n",
        "          self.t_activation.append(output_layer)\n",
        "\n",
        "      error=mse_loss(self.t_activation[-1],y)\n",
        "      #print(error)\n",
        "      nr_correct += int(np.argmax(self.t_activation[-1]) == np.argmax(y))\n",
        "      #print(nr_correct)\n",
        "      return self.t_activation\n",
        "\n",
        "  \n",
        "\n",
        "              #true\n",
        "            \n",
        "    def backward(self, x,y,learning_rate):\n",
        "          self.errors = []\n",
        "          self.t_activation = self.forward(x,y)\n",
        "          Error=self.t_activation[-1]-y\n",
        "          #print(Error.shape)\n",
        "          self.errors.append(Error)         \n",
        "          self.t_weights[-1] += -learning_rate * np.dot(Error.T, self.t_activation[-2]) / len(y)\n",
        "          #print((self.t_weights[-1].shape))\n",
        "          self.t_bias[-1] += -learning_rate * np.mean(Error)\n",
        "          #print((self.t_bias[-1].shape))\n",
        "          for i in range(self.num_of_layers-1,0,-1):\n",
        "            #print(i)\n",
        "            if(i==self.num_of_layers-1 and i!=1):\n",
        "              delta_h=np.dot(self.t_weights[-i+1].T,Error.T)*(sigmoid_derivative(self.t_activation[-i]).T)\n",
        "              Error=delta_h\n",
        "              self.errors.append(Error)        \n",
        "              #print(Error.shape)\n",
        "              #print(delta_h.shape)\n",
        "              self.t_weights[-i] += -learning_rate * np.dot(delta_h,self.t_activation[-i-1])/len(delta_h)\n",
        "              #print((self.t_weights[-i].shape))\n",
        "              #print(delta_h.shape)\n",
        "              self.t_bias[-i] += -learning_rate * np.mean(delta_h)\n",
        "              #print(self.t_bias[-i].shape)\n",
        "            elif(i==1):\n",
        "                if(self.num_of_layers==2):\n",
        "                    delta_h=np.dot(self.t_weights[i].T,Error.T)*(sigmoid_derivative(self.t_activation[i-1].T))\n",
        "                    self.t_weights[i-1] += -learning_rate * np.dot(delta_h,self.x)/len(x)\n",
        "                    #print(self.t_weights[i-1].shape)\n",
        "                    #print(delta_h.shape)\n",
        "                    self.t_bias[i-1] += -learning_rate * np.mean(delta_h)\n",
        "                    #print(self.t_bias[i-1].shape)\n",
        "                 #print(delta_h.shape)\n",
        "                else:\n",
        "                   #print(Error.shape)\n",
        "                   delta_h=np.dot(self.t_weights[i].T,Error)*(sigmoid_derivative(self.t_activation[i-1].T))\n",
        "                   self.t_weights[i-1] += -learning_rate * np.dot(delta_h,self.x )/len(x)\n",
        "                   #print(self.t_weights[i-1].shape)\n",
        "                   #print(delta_h.shape)\n",
        "                   self.t_bias[i-1] += -learning_rate * np.mean(delta_h)\n",
        "                   #print(self.t_bias[i-1].shape)\n",
        "            \n",
        "            \n",
        "          return self.t_activation[-1]\n",
        "              \n",
        "    \n",
        "    \n",
        "    \n",
        "   \n",
        "    # def predict(self, y_true, y_pred):\n",
        "    #   train_acc = np.mean(np.argmax(y_true, axis=1) == np.argmax(y_pred, axis=1)) * 100  #y_pred=self.t_activation[-1]\n",
        "    #   return train_acc\n",
        "   \n",
        "   \n",
        "    def predict(self, y_true, y_pred):\n",
        "      accuracy = 0\n",
        "      for i in range(len(y_true)):\n",
        "        if np.argmax(y_true[i]) == np.argmax(y_pred[i]):\n",
        "            accuracy += 1\n",
        "      accuracy /= len(y_true) \n",
        "      return accuracy*100\n",
        "\n",
        "   \n",
        "   \n",
        "    def fit(self, x, y, epochs, learning_rate):\n",
        "      train_accs = []\n",
        "      for epoch in range(epochs):\n",
        "          # self.backward(x, y, learning_rate)\n",
        "          y_pred=self.backward( x,y,learning_rate)\n",
        "          #if epoch % 50 == 0:  # decrease learning rate every 50 epochs\n",
        "             #learning_rate *= 0.5\n",
        "          train_acc = self.predict(y,y_pred)\n",
        "          train_accs.append(train_acc)\n",
        "          if epoch % 100 == 0: \n",
        "            print('accuracy of',epoch,'is:',train_acc)\n",
        "      return train_accs  \n",
        "\n"
      ],
      "metadata": {
        "id": "2mijTy4R5Z57"
      },
      "execution_count": null,
      "outputs": []
    },
    {
      "cell_type": "code",
      "source": [
        "name=[]\n",
        "Accuracy=[]"
      ],
      "metadata": {
        "id": "9OyuwquopsJx"
      },
      "execution_count": null,
      "outputs": []
    },
    {
      "cell_type": "markdown",
      "source": [
        "Train model using 2 layers"
      ],
      "metadata": {
        "id": "sVTiSInGv8Uj"
      }
    },
    {
      "cell_type": "code",
      "source": [
        "def NN(x, y, num_of_layers, size_of_layers):\n",
        "    nn = NeuralNetwork(x_train,y_train_onehot,num_of_layers, size_of_layers)\n",
        "    accuracy=nn.fit(x_train,y_train_onehot,700,0.9)\n",
        "    return accuracy\n",
        "accuracy=NN(x_train, y_train_onehot, 2 ,[20,10])"
      ],
      "metadata": {
        "id": "6pnhNsJE5Z8Y",
        "colab": {
          "base_uri": "https://localhost:8080/"
        },
        "outputId": "7dc4fb5a-4bd4-43fc-b080-a116d9ab0c6d"
      },
      "execution_count": null,
      "outputs": [
        {
          "output_type": "stream",
          "name": "stdout",
          "text": [
            "accuracy of 0 is: 11.651666666666667\n",
            "accuracy of 100 is: 60.81166666666667\n",
            "accuracy of 200 is: 70.14333333333333\n",
            "accuracy of 300 is: 74.67\n",
            "accuracy of 400 is: 77.21000000000001\n",
            "accuracy of 500 is: 78.81833333333333\n",
            "accuracy of 600 is: 80.05499999999999\n"
          ]
        }
      ]
    },
    {
      "cell_type": "code",
      "source": [
        "print('accuracy is:',accuracy[-1])"
      ],
      "metadata": {
        "id": "v1uANgDP5Z-3",
        "colab": {
          "base_uri": "https://localhost:8080/"
        },
        "outputId": "eee6af42-bd68-4a30-e20f-684276ade460"
      },
      "execution_count": null,
      "outputs": [
        {
          "output_type": "stream",
          "name": "stdout",
          "text": [
            "accuracy is: 81.00166666666667\n"
          ]
        }
      ]
    },
    {
      "cell_type": "markdown",
      "source": [
        "\n",
        "1- Build NN with only 2 layers => 1 hidden layer and 1 output layer"
      ],
      "metadata": {
        "id": "WMqfVlk9nay3"
      }
    },
    {
      "cell_type": "code",
      "source": [
        "def NN(x, y, num_of_layers, size_of_layers):\n",
        "    nn = NeuralNetwork(x_test,y_test_onehot,num_of_layers, size_of_layers)\n",
        "    accuracy=nn.fit(x_test,y_test_onehot,700,0.9)\n",
        "    return accuracy\n",
        "accuracy=NN(x_test, y_test_onehot, 2 ,[20,10])\n",
        "name.append('1')"
      ],
      "metadata": {
        "id": "xYbrFz1-lfaE",
        "colab": {
          "base_uri": "https://localhost:8080/"
        },
        "outputId": "3df675ac-9aa5-4295-8a7f-a8da997925fd"
      },
      "execution_count": null,
      "outputs": [
        {
          "output_type": "stream",
          "name": "stdout",
          "text": [
            "accuracy of 0 is: 9.28\n",
            "accuracy of 100 is: 62.239999999999995\n",
            "accuracy of 200 is: 71.65\n",
            "accuracy of 300 is: 75.72\n",
            "accuracy of 400 is: 77.92999999999999\n",
            "accuracy of 500 is: 79.41\n",
            "accuracy of 600 is: 80.43\n"
          ]
        }
      ]
    },
    {
      "cell_type": "code",
      "source": [
        "print('accuracy is:',accuracy[-1])\n",
        "Accuracy.append(accuracy[-1])"
      ],
      "metadata": {
        "id": "KUaU35yYlf3B",
        "colab": {
          "base_uri": "https://localhost:8080/"
        },
        "outputId": "3eeb7cb3-3556-41f2-9957-98c96a4bf5a2"
      },
      "execution_count": null,
      "outputs": [
        {
          "output_type": "stream",
          "name": "stdout",
          "text": [
            "accuracy is: 81.32000000000001\n"
          ]
        }
      ]
    },
    {
      "cell_type": "markdown",
      "source": [
        "2- Build NN with 3 layers=> 2 hidden layers\n",
        "Where # of neurons in first layer < # of neurons in second layer and 1 output layer"
      ],
      "metadata": {
        "id": "gE0P_p4XpHMv"
      }
    },
    {
      "cell_type": "code",
      "source": [
        "def NN(x, y, num_of_layers, size_of_layers):\n",
        "    nn = NeuralNetwork(x_test,y_test_onehot,num_of_layers, size_of_layers)\n",
        "    accuracy=nn.fit(x_test,y_test_onehot,1000,0.9)\n",
        "    return accuracy\n",
        "accuracy=NN(x_test, y_test_onehot, 3 ,[10,20,10]) \n",
        "print('accuracy is:',accuracy[-1])\n",
        "name.append('2')"
      ],
      "metadata": {
        "id": "Hb_mncF0lgUB",
        "colab": {
          "base_uri": "https://localhost:8080/"
        },
        "outputId": "5fec3dff-d7aa-4497-d4a9-6dcf4b7005d2"
      },
      "execution_count": null,
      "outputs": [
        {
          "output_type": "stream",
          "name": "stdout",
          "text": [
            "accuracy of 0 is: 8.27\n",
            "accuracy of 100 is: 34.25\n",
            "accuracy of 200 is: 45.410000000000004\n",
            "accuracy of 300 is: 50.160000000000004\n",
            "accuracy of 400 is: 52.800000000000004\n",
            "accuracy of 500 is: 57.34\n",
            "accuracy of 600 is: 60.019999999999996\n",
            "accuracy of 700 is: 58.730000000000004\n",
            "accuracy of 800 is: 61.89\n",
            "accuracy of 900 is: 62.77\n",
            "accuracy is: 63.949999999999996\n"
          ]
        }
      ]
    },
    {
      "cell_type": "code",
      "source": [
        "print('accuracy is:',accuracy[-1])\n",
        "Accuracy.append(accuracy[-1])"
      ],
      "metadata": {
        "id": "j3rqSWWGpP50",
        "colab": {
          "base_uri": "https://localhost:8080/"
        },
        "outputId": "3aa741a0-72e1-48a3-b332-940457a0b341"
      },
      "execution_count": null,
      "outputs": [
        {
          "output_type": "stream",
          "name": "stdout",
          "text": [
            "accuracy is: 63.949999999999996\n"
          ]
        }
      ]
    },
    {
      "cell_type": "markdown",
      "source": [
        "3- Build NN with 3 layers=> 2 hidden layers\n",
        "Where # of neurons in first layer > # of neurons in second layer"
      ],
      "metadata": {
        "id": "4hrqtdYspKN6"
      }
    },
    {
      "cell_type": "code",
      "source": [
        "def NN(x, y, num_of_layers, size_of_layers):\n",
        "    nn = NeuralNetwork(x_test,y_test_onehot,num_of_layers, size_of_layers)\n",
        "    accuracy=nn.fit(x_test,y_test_onehot,1000,0.9)\n",
        "    return accuracy\n",
        "accuracy=NN(x_test, y_test_onehot, 3 ,[30,20,10]) \n",
        "print('accuracy is:',accuracy[-1])\n",
        "name.append('3')"
      ],
      "metadata": {
        "id": "FgbXxZpNlgd4",
        "colab": {
          "base_uri": "https://localhost:8080/"
        },
        "outputId": "89fe6c1d-2cf6-4421-f063-dd4b20ac6ba2"
      },
      "execution_count": null,
      "outputs": [
        {
          "output_type": "stream",
          "name": "stdout",
          "text": [
            "accuracy of 0 is: 6.279999999999999\n",
            "accuracy of 100 is: 37.3\n",
            "accuracy of 200 is: 43.26\n",
            "accuracy of 300 is: 44.99\n",
            "accuracy of 400 is: 45.83\n",
            "accuracy of 500 is: 46.42\n",
            "accuracy of 600 is: 55.44\n",
            "accuracy of 700 is: 58.63\n",
            "accuracy of 800 is: 59.96\n",
            "accuracy of 900 is: 60.36\n",
            "accuracy is: 61.260000000000005\n"
          ]
        }
      ]
    },
    {
      "cell_type": "code",
      "source": [
        "print('accuracy is:',accuracy[-1])\n",
        "Accuracy.append(accuracy[-1])"
      ],
      "metadata": {
        "id": "9F_mJuaopQj8",
        "colab": {
          "base_uri": "https://localhost:8080/"
        },
        "outputId": "36359b4a-2f66-4146-a21c-1f9ad360f8d8"
      },
      "execution_count": null,
      "outputs": [
        {
          "output_type": "stream",
          "name": "stdout",
          "text": [
            "accuracy is: 61.260000000000005\n"
          ]
        }
      ]
    },
    {
      "cell_type": "code",
      "source": [
        "Number_Of_Layers=pd.DataFrame(name,columns=['Number_Of_Layers'])\n",
        "Accuracy=pd.DataFrame(Accuracy,columns=['Accuracy'])"
      ],
      "metadata": {
        "id": "Xz7zAwsAp7jp"
      },
      "execution_count": null,
      "outputs": []
    },
    {
      "cell_type": "code",
      "source": [
        "Table=pd.concat([Number_Of_Layers,Accuracy],axis=1)"
      ],
      "metadata": {
        "id": "PnK7C5nkqbk9"
      },
      "execution_count": null,
      "outputs": []
    },
    {
      "cell_type": "code",
      "source": [
        "Table"
      ],
      "metadata": {
        "id": "64e24Vhcqf77",
        "colab": {
          "base_uri": "https://localhost:8080/",
          "height": 143
        },
        "outputId": "3548f534-2d00-4426-85b6-14845a683e68"
      },
      "execution_count": null,
      "outputs": [
        {
          "output_type": "execute_result",
          "data": {
            "text/plain": [
              "  Number_Of_Layers  Accuracy\n",
              "0                1     81.32\n",
              "1                2     63.95\n",
              "2                3     61.26"
            ],
            "text/html": [
              "\n",
              "  <div id=\"df-cfeebc36-2e0e-434b-88a8-b71776cc21ed\">\n",
              "    <div class=\"colab-df-container\">\n",
              "      <div>\n",
              "<style scoped>\n",
              "    .dataframe tbody tr th:only-of-type {\n",
              "        vertical-align: middle;\n",
              "    }\n",
              "\n",
              "    .dataframe tbody tr th {\n",
              "        vertical-align: top;\n",
              "    }\n",
              "\n",
              "    .dataframe thead th {\n",
              "        text-align: right;\n",
              "    }\n",
              "</style>\n",
              "<table border=\"1\" class=\"dataframe\">\n",
              "  <thead>\n",
              "    <tr style=\"text-align: right;\">\n",
              "      <th></th>\n",
              "      <th>Number_Of_Layers</th>\n",
              "      <th>Accuracy</th>\n",
              "    </tr>\n",
              "  </thead>\n",
              "  <tbody>\n",
              "    <tr>\n",
              "      <th>0</th>\n",
              "      <td>1</td>\n",
              "      <td>81.32</td>\n",
              "    </tr>\n",
              "    <tr>\n",
              "      <th>1</th>\n",
              "      <td>2</td>\n",
              "      <td>63.95</td>\n",
              "    </tr>\n",
              "    <tr>\n",
              "      <th>2</th>\n",
              "      <td>3</td>\n",
              "      <td>61.26</td>\n",
              "    </tr>\n",
              "  </tbody>\n",
              "</table>\n",
              "</div>\n",
              "      <button class=\"colab-df-convert\" onclick=\"convertToInteractive('df-cfeebc36-2e0e-434b-88a8-b71776cc21ed')\"\n",
              "              title=\"Convert this dataframe to an interactive table.\"\n",
              "              style=\"display:none;\">\n",
              "        \n",
              "  <svg xmlns=\"http://www.w3.org/2000/svg\" height=\"24px\"viewBox=\"0 0 24 24\"\n",
              "       width=\"24px\">\n",
              "    <path d=\"M0 0h24v24H0V0z\" fill=\"none\"/>\n",
              "    <path d=\"M18.56 5.44l.94 2.06.94-2.06 2.06-.94-2.06-.94-.94-2.06-.94 2.06-2.06.94zm-11 1L8.5 8.5l.94-2.06 2.06-.94-2.06-.94L8.5 2.5l-.94 2.06-2.06.94zm10 10l.94 2.06.94-2.06 2.06-.94-2.06-.94-.94-2.06-.94 2.06-2.06.94z\"/><path d=\"M17.41 7.96l-1.37-1.37c-.4-.4-.92-.59-1.43-.59-.52 0-1.04.2-1.43.59L10.3 9.45l-7.72 7.72c-.78.78-.78 2.05 0 2.83L4 21.41c.39.39.9.59 1.41.59.51 0 1.02-.2 1.41-.59l7.78-7.78 2.81-2.81c.8-.78.8-2.07 0-2.86zM5.41 20L4 18.59l7.72-7.72 1.47 1.35L5.41 20z\"/>\n",
              "  </svg>\n",
              "      </button>\n",
              "      \n",
              "  <style>\n",
              "    .colab-df-container {\n",
              "      display:flex;\n",
              "      flex-wrap:wrap;\n",
              "      gap: 12px;\n",
              "    }\n",
              "\n",
              "    .colab-df-convert {\n",
              "      background-color: #E8F0FE;\n",
              "      border: none;\n",
              "      border-radius: 50%;\n",
              "      cursor: pointer;\n",
              "      display: none;\n",
              "      fill: #1967D2;\n",
              "      height: 32px;\n",
              "      padding: 0 0 0 0;\n",
              "      width: 32px;\n",
              "    }\n",
              "\n",
              "    .colab-df-convert:hover {\n",
              "      background-color: #E2EBFA;\n",
              "      box-shadow: 0px 1px 2px rgba(60, 64, 67, 0.3), 0px 1px 3px 1px rgba(60, 64, 67, 0.15);\n",
              "      fill: #174EA6;\n",
              "    }\n",
              "\n",
              "    [theme=dark] .colab-df-convert {\n",
              "      background-color: #3B4455;\n",
              "      fill: #D2E3FC;\n",
              "    }\n",
              "\n",
              "    [theme=dark] .colab-df-convert:hover {\n",
              "      background-color: #434B5C;\n",
              "      box-shadow: 0px 1px 3px 1px rgba(0, 0, 0, 0.15);\n",
              "      filter: drop-shadow(0px 1px 2px rgba(0, 0, 0, 0.3));\n",
              "      fill: #FFFFFF;\n",
              "    }\n",
              "  </style>\n",
              "\n",
              "      <script>\n",
              "        const buttonEl =\n",
              "          document.querySelector('#df-cfeebc36-2e0e-434b-88a8-b71776cc21ed button.colab-df-convert');\n",
              "        buttonEl.style.display =\n",
              "          google.colab.kernel.accessAllowed ? 'block' : 'none';\n",
              "\n",
              "        async function convertToInteractive(key) {\n",
              "          const element = document.querySelector('#df-cfeebc36-2e0e-434b-88a8-b71776cc21ed');\n",
              "          const dataTable =\n",
              "            await google.colab.kernel.invokeFunction('convertToInteractive',\n",
              "                                                     [key], {});\n",
              "          if (!dataTable) return;\n",
              "\n",
              "          const docLinkHtml = 'Like what you see? Visit the ' +\n",
              "            '<a target=\"_blank\" href=https://colab.research.google.com/notebooks/data_table.ipynb>data table notebook</a>'\n",
              "            + ' to learn more about interactive tables.';\n",
              "          element.innerHTML = '';\n",
              "          dataTable['output_type'] = 'display_data';\n",
              "          await google.colab.output.renderOutput(dataTable, element);\n",
              "          const docLink = document.createElement('div');\n",
              "          docLink.innerHTML = docLinkHtml;\n",
              "          element.appendChild(docLink);\n",
              "        }\n",
              "      </script>\n",
              "    </div>\n",
              "  </div>\n",
              "  "
            ]
          },
          "metadata": {},
          "execution_count": 31
        }
      ]
    },
    {
      "cell_type": "code",
      "source": [
        "# def NN(x, y, num_of_layers, size_of_layers):\n",
        "#     nn = NeuralNetwork(x_train,y_train_onehot,num_of_layers, size_of_layers)\n",
        "#     accuracy=nn.fit(x_train,y_train_onehot,600,0.9)\n",
        "#     return accuracy\n",
        "# accuracy=NN(x_train, y_train_onehot, 3 ,[10,20,10]) \n",
        "# print('accuracy is:',accuracy[-1])"
      ],
      "metadata": {
        "id": "O0d2irAX5aBQ"
      },
      "execution_count": null,
      "outputs": []
    },
    {
      "cell_type": "code",
      "source": [
        "# print('accuracy is:',accuracy[-1])"
      ],
      "metadata": {
        "id": "hV5weS8S5aDq"
      },
      "execution_count": null,
      "outputs": []
    }
  ]
}